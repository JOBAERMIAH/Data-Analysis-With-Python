{
 "cells": [
  {
   "cell_type": "code",
   "execution_count": null,
   "id": "5f2de408",
   "metadata": {},
   "outputs": [],
   "source": []
  },
  {
   "cell_type": "code",
   "execution_count": null,
   "id": "6167234a",
   "metadata": {},
   "outputs": [],
   "source": [
    "Task. 1) Is there any Duplicate Record in this dataset ? If yes, then remove the duplicate records.\n"
   ]
  },
  {
   "cell_type": "code",
   "execution_count": null,
   "id": "2438416e",
   "metadata": {},
   "outputs": [],
   "source": []
  },
  {
   "cell_type": "code",
   "execution_count": null,
   "id": "39aec08d",
   "metadata": {},
   "outputs": [],
   "source": [
    "Task. 2) Is there any Null Value present in any column ? Show with Heat-map.\n"
   ]
  },
  {
   "cell_type": "code",
   "execution_count": null,
   "id": "64df0f93",
   "metadata": {},
   "outputs": [],
   "source": []
  },
  {
   "cell_type": "code",
   "execution_count": null,
   "id": "ecf6c474",
   "metadata": {},
   "outputs": [],
   "source": [
    "Q. 1) For 'House of Cards', what is the Show Id and Who is the Director of this show ?\n"
   ]
  },
  {
   "cell_type": "code",
   "execution_count": null,
   "id": "3b4ed0e8",
   "metadata": {},
   "outputs": [],
   "source": []
  },
  {
   "cell_type": "code",
   "execution_count": null,
   "id": "bd6aff70",
   "metadata": {},
   "outputs": [],
   "source": [
    "Q. 2) In which year the highest number of the TV Shows & Movies were released ? Show with Bar Graph.\n"
   ]
  },
  {
   "cell_type": "code",
   "execution_count": null,
   "id": "b387fa7b",
   "metadata": {},
   "outputs": [],
   "source": [
    "Q. 3) How many Movies & TV Shows are in the dataset ? Show with Bar Graph.\n"
   ]
  },
  {
   "cell_type": "code",
   "execution_count": null,
   "id": "efbbb7f4",
   "metadata": {},
   "outputs": [],
   "source": [
    "Q. 4) Show all the Movies that were released in year 2000.\n"
   ]
  },
  {
   "cell_type": "code",
   "execution_count": null,
   "id": "8cfc02bb",
   "metadata": {},
   "outputs": [],
   "source": [
    "Q. 5) Show only the Titles of all TV Shows that were released in India only.\n"
   ]
  },
  {
   "cell_type": "code",
   "execution_count": null,
   "id": "a5eec453",
   "metadata": {},
   "outputs": [],
   "source": [
    "Q. 6) Show Top 10 Directors, who gave the highest number of TV Shows & Movies to Netflix ?\n"
   ]
  },
  {
   "cell_type": "code",
   "execution_count": null,
   "id": "93987728",
   "metadata": {},
   "outputs": [],
   "source": [
    "Q. 7) Show all the Records, where \"Category is Movie and Type is Comedies\" or \"Country is United Kingdom\".\n"
   ]
  },
  {
   "cell_type": "code",
   "execution_count": null,
   "id": "50b28806",
   "metadata": {},
   "outputs": [],
   "source": [
    "Q. 8) In how many movies/shows, Tom Cruise was cast ?\n"
   ]
  },
  {
   "cell_type": "code",
   "execution_count": null,
   "id": "a81def6e",
   "metadata": {},
   "outputs": [],
   "source": [
    "Q. 9) What are the different Ratings defined by Netflix ?\n"
   ]
  },
  {
   "cell_type": "code",
   "execution_count": null,
   "id": "aaa4fd8c",
   "metadata": {},
   "outputs": [],
   "source": [
    "Q. 9.1) How many Movies got the 'TV-14' rating, in Canada ?\n"
   ]
  },
  {
   "cell_type": "code",
   "execution_count": null,
   "id": "9d0c2809",
   "metadata": {},
   "outputs": [],
   "source": [
    "Q. 9.2) How many TV Shows got the 'R' rating, after year 2018 ?\n"
   ]
  },
  {
   "cell_type": "code",
   "execution_count": null,
   "id": "f5a59f7c",
   "metadata": {},
   "outputs": [],
   "source": [
    "Q. 10) What is the maximum duration of a Movie/Show on Netflix ?\n"
   ]
  },
  {
   "cell_type": "code",
   "execution_count": null,
   "id": "19291d44",
   "metadata": {},
   "outputs": [],
   "source": [
    "Q. 11) Which individual country has the Highest No. of TV Shows ?\n"
   ]
  },
  {
   "cell_type": "code",
   "execution_count": null,
   "id": "699cec1a",
   "metadata": {},
   "outputs": [],
   "source": [
    "Q. 12) How can we sort the dataset by Year ?\n"
   ]
  },
  {
   "cell_type": "markdown",
   "id": "edc47c2f",
   "metadata": {},
   "source": [
    "# Q. 13) Find all the instances where: Category is 'Movie' and Type is 'Dramas' or Category is 'TV Show' & Type is 'Kids' TV'."
   ]
  },
  {
   "cell_type": "code",
   "execution_count": null,
   "id": "59fad0b1",
   "metadata": {},
   "outputs": [],
   "source": []
  },
  {
   "cell_type": "code",
   "execution_count": null,
   "id": "2538ec88",
   "metadata": {},
   "outputs": [],
   "source": []
  },
  {
   "cell_type": "code",
   "execution_count": null,
   "id": "67dba2f2",
   "metadata": {},
   "outputs": [],
   "source": []
  },
  {
   "cell_type": "code",
   "execution_count": null,
   "id": "ef92462d",
   "metadata": {},
   "outputs": [],
   "source": []
  },
  {
   "cell_type": "code",
   "execution_count": null,
   "id": "600f0f82",
   "metadata": {},
   "outputs": [],
   "source": []
  },
  {
   "cell_type": "code",
   "execution_count": null,
   "id": "5de7772b",
   "metadata": {},
   "outputs": [],
   "source": []
  },
  {
   "cell_type": "code",
   "execution_count": null,
   "id": "57096ff0",
   "metadata": {},
   "outputs": [],
   "source": []
  },
  {
   "cell_type": "code",
   "execution_count": null,
   "id": "7ad6e2e9",
   "metadata": {},
   "outputs": [],
   "source": []
  }
 ],
 "metadata": {
  "kernelspec": {
   "display_name": "Python 3 (ipykernel)",
   "language": "python",
   "name": "python3"
  },
  "language_info": {
   "codemirror_mode": {
    "name": "ipython",
    "version": 3
   },
   "file_extension": ".py",
   "mimetype": "text/x-python",
   "name": "python",
   "nbconvert_exporter": "python",
   "pygments_lexer": "ipython3",
   "version": "3.9.12"
  }
 },
 "nbformat": 4,
 "nbformat_minor": 5
}
